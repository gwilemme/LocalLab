{
 "cells": [
  {
   "cell_type": "markdown",
   "metadata": {},
   "source": [
    "# Calibrate rigid wage"
   ]
  },
  {
   "cell_type": "code",
   "execution_count": 1,
   "metadata": {},
   "outputs": [
    {
     "name": "stdout",
     "output_type": "stream",
     "text": [
      "Startup run in 7.133554935455322 secs.\n"
     ]
    },
    {
     "data": {
      "image/png": "[encoded data removed]",
      "text/plain": [
       "Figure(PyObject <Figure size 640x480 with 1 Axes>)"
      ]
     },
     "metadata": {},
     "output_type": "display_data"
    }
   ],
   "source": [
    "using NBInclude\n",
    "@nbinclude(\"startup.ipynb\")"
   ]
  },
  {
   "cell_type": "code",
   "execution_count": 2,
   "metadata": {},
   "outputs": [
    {
     "name": "stdout",
     "output_type": "stream",
     "text": [
      "One evaluation takes:\n",
      " 18.916099 seconds (11.12 M allocations: 12.251 GiB, 6.83% gc time, 39.21% compilation time)\n"
     ]
    },
    {
     "data": {
      "text/plain": [
       "0.2700233370192475"
      ]
     },
     "execution_count": 2,
     "metadata": {},
     "output_type": "execute_result"
    }
   ],
   "source": [
    "function estimate(simpar::SimPar;\n",
    "        x0 = [13.459713595432413, 0.0, 0.06874436711655102, 8.285702150626136, 2.44522060308835, 0.1755513264749144],\n",
    "        lbd= [1, 0, 0, 0, 0, 0], \n",
    "        ubd = [200, 100, 1, 100, 10, 10],\n",
    "        algo = :LN_NELDERMEAD, ## algo :LN_NELDERMEAD :LN_SBPLX :LN_BOBYQA :LN_COBYLA\n",
    "        maxti=7*60*60, maxev=2000, xtol=1e-2,\n",
    "        verbose=false) ## true shows the distance at each evaluation)\n",
    "\n",
    "    Npar=length(x0)\n",
    "    opt = NLopt.Opt(algo, Npar)      \n",
    "    maxtime!(opt,maxti)\n",
    "    maxeval!(opt,maxev)\n",
    "    xtol_rel!(opt,xtol)\n",
    "        \n",
    "    ## bounds and free parameter    \n",
    "    lower_bounds!(opt, lbd )\n",
    "    upper_bounds!(opt, ubd)\n",
    "    println(\"Optimisation with $Npar parameters,\")\n",
    "    println(\"   algo: $algo\")\n",
    "    println(\"   and maximum time: \", round(maxti/3600,digits=3))\n",
    "    println(\"   and maximum eval: $maxev\")        \n",
    "    \n",
    "    \n",
    "    function obj(x,g) \n",
    "        a=16.\n",
    "        out = try\n",
    "                newp = initial_StrucPar_rigidwage(x[1], x[2], x[3], x[4], x[5], x[6])\n",
    "                criterion(moments(simpar, newp), simpar.data)  \n",
    "            catch\n",
    "                Inf\n",
    "            end\n",
    "        return out\n",
    "    end    \n",
    "    \n",
    "    nobs=0\n",
    "    function obj_verbose(x,g)\n",
    "        out = obj(x,g)       \n",
    "        ## check every step\n",
    "        step = 10\n",
    "        if (nobs>1) & (div(nobs,step) * step == nobs)\n",
    "            print(\"[$(round(x[1],sigdigits=2)),$(round(x[2],sigdigits=2)),$(round(x[3],sigdigits=2))]\")\n",
    "            print(\":$(round(out,sigdigits=4))// \")\n",
    "        end\n",
    "        nobs += 1\n",
    "        return(out)\n",
    "    end\n",
    "    \n",
    "    min_objective!(opt,obj)\n",
    "    verbose ? min_objective!(opt,obj_verbose) : ()\n",
    "\n",
    "    println(\"Initial point: $(x0)\")\n",
    "    (minf,minvec,ret) = NLopt.optimize(opt,x0)\n",
    "    println(\"The minimum is reached at \",minf, \" with \", ret)\n",
    "    println(\"  $minvec\")\n",
    "    return minvec\n",
    "end\n",
    "\n",
    "println(\"One evaluation takes:\")\n",
    "@time let\n",
    "        newp = initial_StrucPar_rigidwage(13.459713595432413, 0.0, 0.06874436711655102, 8.285702150626136, 2.44522060308835, 0.1755513264749144)\n",
    "        criterion(moments(simpar, newp), simpar.data) \n",
    "end"
   ]
  },
  {
   "cell_type": "code",
   "execution_count": 3,
   "metadata": {},
   "outputs": [
    {
     "name": "stdout",
     "output_type": "stream",
     "text": [
      "Optimisation with 6 parameters,\n",
      "   algo: LN_NELDERMEAD\n",
      "   and maximum time: 7.0\n",
      "   and maximum eval: 2000\n",
      "Initial point: [13.459713595432413, 0.0, 0.06874436711655102, 8.285702150626136, 2.44522060308835, 0.1755513264749144]\n",
      "/!\\ Maximum number of iterations reached.\n",
      "/!\\ Maximum number of iterations reached.\n",
      "/!\\ Maximum number of iterations reached.\n",
      "/!\\ Maximum number of iterations reached.\n",
      "/!\\ Maximum number of iterations reached.\n",
      "/!\\ Maximum number of iterations reached.\n",
      "/!\\ Maximum number of iterations reached.\n",
      "/!\\ Maximum number of iterations reached.\n",
      "The minimum is reached at 0.2700233370192475 with XTOL_REACHED\n",
      "  [13.459713595432413, 0.0, 0.06874436711655102, 8.285702150626136, 2.44522060308835, 0.1755513264749144]\n",
      "2064.889716 seconds (682.96 M allocations: 2.178 TiB, 8.68% gc time, 0.01% compilation time)\n"
     ]
    },
    {
     "data": {
      "text/plain": [
       "6-element Vector{Float64}:\n",
       " 13.459713595432413\n",
       "  0.0\n",
       "  0.06874436711655102\n",
       "  8.285702150626136\n",
       "  2.44522060308835\n",
       "  0.1755513264749144"
      ]
     },
     "execution_count": 3,
     "metadata": {},
     "output_type": "execute_result"
    }
   ],
   "source": [
    "@time estimate(simpar)"
   ]
  }
 ],
 "metadata": {
  "@webio": {
   "lastCommId": null,
   "lastKernelId": null
  },
  "kernelspec": {
   "display_name": "Julia 1.10.5",
   "language": "julia",
   "name": "julia-1.10"
  },
  "language_info": {
   "file_extension": ".jl",
   "mimetype": "application/julia",
   "name": "julia",
   "version": "1.10.5"
  }
 },
 "nbformat": 4,
 "nbformat_minor": 4
}
