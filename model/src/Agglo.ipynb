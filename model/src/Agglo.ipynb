{
 "cells": [
  {
   "cell_type": "code",
   "execution_count": 1,
   "metadata": {},
   "outputs": [
    {
     "data": {
      "text/plain": [
       "plot_flows4 (generic function with 1 method)"
      ]
     },
     "execution_count": 1,
     "metadata": {},
     "output_type": "execute_result"
    }
   ],
   "source": [
    "module Agglo\n",
    "\n",
    "using NBInclude\n",
    "using LinearAlgebra, DataFrames, PyPlot, NLopt\n",
    "\n",
    "\n",
    "@nbinclude(\"algorithmTKS.ipynb\")\n",
    "\n",
    "@nbinclude(\"structure.ipynb\")\n",
    "export StrucPar, SimPar, PolicyPar\n",
    "export test_steadystate, StrucPar_fullpar, StrucPar_agglo, StrucPar_pers, StrucPar_migr\n",
    "export F_fun, G_fun, Atilde_fun\n",
    "\n",
    "\n",
    "@nbinclude(\"dynamics_base.ipynb\")\n",
    "@nbinclude(\"dynamics_rigidwage.ipynb\")\n",
    "@nbinclude(\"dynamics_rigidrent.ipynb\")\n",
    "@nbinclude(\"dynamics_m.ipynb\")\n",
    "\n",
    "\n",
    "## wrap-up\n",
    "function simulate(tf, s::SimPar, p::StrucPar; verbose=false)\n",
    "    if p.version == :base\n",
    "            simulate_base(tf, s, p; verbose=verbose) \n",
    "        elseif p.version == :rigidwage\n",
    "            simulate_rigidwage(tf, s, p; verbose=verbose)\n",
    "        elseif p.version == :rigidrent\n",
    "            simulate_rigidrent(tf, s, p; verbose=verbose)\n",
    "        end\n",
    "end\n",
    "\n",
    "function moments(s::SimPar, p::StrucPar)\n",
    "        if p.version == :base\n",
    "            moments_base(s, p) \n",
    "        elseif p.version == :rigidwage\n",
    "            moments_rigidwage(s, p) \n",
    "        elseif p.version == :rigidrent\n",
    "            moments_rigidrent(s, p) \n",
    "        end\n",
    "end\n",
    "\n",
    "export simulate, moments, simulate_m\n",
    "    \n",
    "\n",
    "@nbinclude(\"dynamics_policy.ipynb\")\n",
    "export simulate_policy\n",
    "\n",
    "    \n",
    "@nbinclude(\"estimation.ipynb\")    \n",
    "export criterion, criterion_nopar\n",
    "\n",
    "end"
   ]
  }
 ],
 "metadata": {
  "@webio": {
   "lastCommId": null,
   "lastKernelId": null
  },
  "kernelspec": {
   "display_name": "Julia 1.10.9",
   "language": "julia",
   "name": "julia-1.10"
  },
  "language_info": {
   "file_extension": ".jl",
   "mimetype": "application/julia",
   "name": "julia",
   "version": "1.10.9"
  }
 },
 "nbformat": 4,
 "nbformat_minor": 4
}
