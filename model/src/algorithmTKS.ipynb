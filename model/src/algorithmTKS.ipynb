{
 "cells": [
  {
   "cell_type": "markdown",
   "metadata": {},
   "source": [
    "We implement the algorithm of Trimborg, Koch, and Steger (2008) to solve a particular linear problem $J X = E$, where $J$ is an $NM\\times NM$ matrix and $E$ is a vector of length $NM$. \n",
    "$J$ has the following form:\n",
    "$$J=\\begin{pmatrix}\n",
    "J^0_1 & 0 & ... & 0 & 0 \\\\ \n",
    "J^1_1 & J^1_2 & & ... 0 & 0 \\\\ \n",
    "0 & 0 & ... & J^{M-1}_{M-1} & J^{M-1}_M \\\\\n",
    "0 & 0 & ... & 0 & J^M_M \n",
    "\\end{pmatrix},$$\n",
    "with $N=N_1+N_2$. \n",
    "$J^0_1 = (I_{N_1xN_1}\\ 0_{N_1xN_2})$ of dimension $N_1\\times N$, $J^M_M =(0_{N_2xN_1}\\ I_{N_2xN_2})$ of dimension $N_2\\times N$, and the remaining matrices have dimension $N\\times N$.\n",
    "\n",
    "$N_1$ is the number of initial conditions and $N_2$ the number of final conditions.\n",
    "$J^0_1 X_1=E_1$ is the system of initial conditions, and $J^M_M X_M=E_M$ is the system of final conditions.\n",
    "\n",
    "\n",
    "The key to avoid numerical instability or computational complexity is to find a way to solve efficiently this linear system without inverting the (huge) matrix $J$. The strategy consists in \"triangularizing\" the matrix block by block. We combine two algebraic operations."
   ]
  },
  {
   "cell_type": "markdown",
   "metadata": {},
   "source": [
    "## Operation 1:\n",
    "Simplify the system\n",
    "$\\begin{pmatrix}\n",
    "A_{n,n} & B_{n,m} & 0_{n,p} \\\\ \n",
    "C_{q,n} & D_{q,m} & F_{q,p} \\\\ \n",
    "0_{r,n} & G_{r,m} & H_{r,p} \n",
    "\\end{pmatrix}X =\\begin{pmatrix}E^1_n \\\\ E^2_q \\\\ E^3_p\\end{pmatrix}$\n",
    "into\n",
    "$\\begin{pmatrix}\n",
    "U_{n,n} & L^{-1}PB_{n,m} & 0_{n,p} \\\\ \n",
    "C_{q,n} & D_{q,m}  & F_{q,p} \\\\ \n",
    "0_{r,n} & G_{r,m} & H_{r,p} \n",
    "\\end{pmatrix}X =\\begin{pmatrix}L^{-1}P E^1_n \\\\ E^2_q  \\\\ E^3_p\\end{pmatrix}$\n",
    "by pre-multiplying by\n",
    "$\\begin{pmatrix}\n",
    "L^{-1}P_{n,n} & 0_{n,q} & 0_{n,r} \\\\ \n",
    "0_{q,n} & I_{q,q} & 0_{q,r} \\\\ \n",
    "0_{r,n} & 0_{r,q} & I_{r,r} \n",
    "\\end{pmatrix}$ with the PLU decomposition $A=P^{-1}LU$. This only affects the first row of the system."
   ]
  },
  {
   "cell_type": "code",
   "execution_count": 1,
   "metadata": {},
   "outputs": [
    {
     "data": {
      "text/plain": [
       "operation1! (generic function with 1 method)"
      ]
     },
     "execution_count": 1,
     "metadata": {},
     "output_type": "execute_result"
    }
   ],
   "source": [
    "function operation1!(J, E, index, n, m)\n",
    "    ## J is large matrix, E large vector\n",
    "    ## index+1 is the first element of matrix A\n",
    "    A = @view J[index+1 : index+n, index+1 : index+n]\n",
    "    B = @view J[index+1 : index+n, index+n+1 : index+n+m]\n",
    "    E1 = @view E[index+1 : index+n]\n",
    "    \n",
    "    facto = lu(A)\n",
    "    aux = inv(facto.L) * facto.P ## compute matric L-1 P\n",
    "    A[:] = facto.U \n",
    "    B[:] = aux * B \n",
    "    E1[:] = aux * E1\n",
    "    return()\n",
    "end"
   ]
  },
  {
   "cell_type": "markdown",
   "metadata": {},
   "source": [
    "## Operation 2:\n",
    "Simplify the system\n",
    "$\\begin{pmatrix}\n",
    "U_{n,n} & B_{n,m} & 0_{n,p} \\\\ \n",
    "C_{q,n} & D_{q,m} & F_{q,p} \\\\ \n",
    "0_{r,n} & G_{r,m} & H_{r,p} \n",
    "\\end{pmatrix}X =\\begin{pmatrix}E^1_n \\\\ E^2_q \\\\ E^3_p\\end{pmatrix}$\n",
    "into\n",
    "$\\begin{pmatrix}\n",
    "U_{n,n} & B_{n,m} & 0_{n,p} \\\\ \n",
    "0_{q,n} & D-CU^{-1}B  & F_{q,p} \\\\ \n",
    "0_{r,n} & G_{r,m} & H_{r,p} \n",
    "\\end{pmatrix}X =\\begin{pmatrix}E^1_n \\\\ E^2-CU^{-1}E^1  \\\\ E^3_p\\end{pmatrix}$\n",
    "by pre-multiplying by\n",
    "$\\begin{pmatrix}\n",
    "I_{n,n} & 0_{n,q} & 0_{n,r} \\\\ \n",
    "-C_{q,n}U^{-1}_{n,n} & I_{q,q} & 0_{q,r} \\\\ \n",
    "0_{r,n} & 0_{r,q} & I_{r,r} \n",
    "\\end{pmatrix}.$\n",
    "Matrices $F$, $G$ and $H$ remain unchanged. We only work with the block matrix $UBCD$. This only affects the second raw of the system."
   ]
  },
  {
   "cell_type": "code",
   "execution_count": 2,
   "metadata": {},
   "outputs": [
    {
     "data": {
      "text/plain": [
       "operation2! (generic function with 1 method)"
      ]
     },
     "execution_count": 2,
     "metadata": {},
     "output_type": "execute_result"
    }
   ],
   "source": [
    "function operation2!(J, E, index, n, m, q)\n",
    "    ## J is large matrix, E large vector\n",
    "    ## index+1 is the first element of matrix U\n",
    "    U = @view J[index+1 : index+n, index+1 : index+n]\n",
    "    B = @view J[index+1 : index+n, index+n+1 : index+n+m]\n",
    "    E1 = @view E[index+1 : index+n]\n",
    "    C = @view J[index+n+1 : index+n+q, index+1 : index+n]\n",
    "    D = @view J[index+n+1 : index+n+q, index+n+1 : index+n+m]\n",
    "    E2 = @view E[index+n+1 : index+n+q]\n",
    "        \n",
    "    aux = C * inv(U)\n",
    "    C[:] = fill(0., size(C))\n",
    "    D[:] = D - aux * B\n",
    "    E2[:] = E2 - aux * E1\n",
    "    return()\n",
    "end"
   ]
  },
  {
   "cell_type": "markdown",
   "metadata": {},
   "source": [
    "The algorithm is the following. \n",
    "1) Start with operation 2 on the first $N_1$ columns of the block $(N_1+N)\\times (N_1+N_2)$.\n",
    "2) For $i$ from 1 to $M-2$, apply operation 1 on blocks $N \\times (N+N_2)$, and then operation 2 on blocks $(N_1+N)\\times (N_1+N_2)$.\n",
    "3) Lastly, use operation 1 to diagonalize the penultimate block."
   ]
  },
  {
   "cell_type": "code",
   "execution_count": 3,
   "metadata": {},
   "outputs": [
    {
     "data": {
      "text/plain": [
       "TKSsolve (generic function with 1 method)"
      ]
     },
     "execution_count": 3,
     "metadata": {},
     "output_type": "execute_result"
    }
   ],
   "source": [
    "function TKSsolve(J, E, N1, N2, M)\n",
    "    ## J is large matrix, E large vector\n",
    "    N = N1+N2\n",
    "    \n",
    "    ## initial step\n",
    "    operation2!(J, E, 0, N1, N2, N)\n",
    "   \n",
    "    ## loop\n",
    "    for i in 1:(M-2)\n",
    "        ##op1\n",
    "        index = N1 + N*(i-1)\n",
    "        operation1!(J, E, index, N, N2)\n",
    "    \n",
    "        ##op2\n",
    "        index = index+N2\n",
    "        operation2!(J, E, index, N1, N2, N)\n",
    "    end\n",
    "   \n",
    "    ## final step\n",
    "    index = N1 + N*(M-2)\n",
    "    operation1!(J, E, index, N, N2)\n",
    "   \n",
    "    return(J \\ E)\n",
    "end"
   ]
  },
  {
   "cell_type": "markdown",
   "metadata": {},
   "source": [
    "To check the algorithm and precompile, we apply the algorithm on a random matrix."
   ]
  },
  {
   "cell_type": "raw",
   "metadata": {},
   "source": [
    "using LinearAlgebra\n",
    "M = 3\n",
    "N1 = 5\n",
    "N2 = 7\n",
    "N=N1+N2\n",
    "\n",
    "J = zeros(N*M,N*M)\n",
    "J[1:N1,1:N1] = Diagonal(fill(1,N1))\n",
    "J[N*M-N2+1:end, N*M-N2+1:end] = Diagonal(fill(1,N2))\n",
    "for i in 1:(M-1)\n",
    "    J[N1+(i-1)*N+1 : N1+(i-1)*N+N, (i-1)*N+1 : (i-1)*N+(2*N)] = rand(N,2*N)\n",
    "end\n",
    "E = rand(N*M)\n",
    "#display(J)\n",
    "\n",
    "sol1 = J \\ E\n",
    "sol2 = TKSsolve(J, E, N1, N2, M)\n",
    "hcat(sol1,sol2)\n",
    "sum((sol1-sol2).^2)"
   ]
  }
 ],
 "metadata": {
  "@webio": {
   "lastCommId": null,
   "lastKernelId": null
  },
  "kernelspec": {
   "display_name": "Julia 1.10.5",
   "language": "julia",
   "name": "julia-1.10"
  },
  "language_info": {
   "file_extension": ".jl",
   "mimetype": "application/julia",
   "name": "julia",
   "version": "1.10.5"
  }
 },
 "nbformat": 4,
 "nbformat_minor": 4
}
