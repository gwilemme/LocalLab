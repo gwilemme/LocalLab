{
 "cells": [
  {
   "cell_type": "markdown",
   "metadata": {},
   "source": [
    "# Estimation"
   ]
  },
  {
   "cell_type": "code",
   "execution_count": null,
   "metadata": {},
   "outputs": [],
   "source": [
    "function testsorted(vec) ## example: [0, -1, -2, -1.5, -1]\n",
    "    imax = findmin(vec)[2]\n",
    "    check1 = issorted(vec[1:imax], rev=true)\n",
    "    check2 = issorted(vec[imax:end])\n",
    "    return check1 & check2\n",
    "end\n",
    "\n",
    "function testsorted2(vec) ## example: [0, 1, 2, 1.5, 1]\n",
    "    imax = findmax(vec)[2]\n",
    "    check1 = issorted(vec[1:imax])\n",
    "    check2 = issorted(vec[imax:end], rev=true)\n",
    "    return check1 & check2\n",
    "end\n",
    "\n",
    "\n",
    "function criterion_nopar(momA::DataFrame, momB::DataFrame;\n",
    "        verbose=false)   \n",
    "    xx1 = 1:20\n",
    "    dist1 = (1/length(xx1)) * sum(abs2,momA.emp[xx1]-momB.emp[xx1]) / maximum(abs2.(momB.emp[xx1]))\n",
    "    xx2 = 1:10\n",
    "    dist2 = (1/length(xx2)) * sum(abs2,momA.urate[xx2]-momB.urate[xx2]) / maximum(abs2.(momB.urate[xx2]))\n",
    "    dist = dist1+dist2\n",
    "    if verbose\n",
    "        println([dist1,dist2, dist])\n",
    "    end\n",
    "end\n",
    "\n",
    "function criterion(momA::DataFrame, momB::DataFrame;\n",
    "        verbose=false, wgt=[1.,1,1])   \n",
    "    xx1 = 1:20\n",
    "    dist1 = (1/length(xx1)) * sum(abs2,momA.emp[xx1]-momB.emp[xx1]) / maximum(abs2.(momB.emp[xx1]))\n",
    "    xx2 = 1:10\n",
    "    dist2 = (1/length(xx2)) * sum(abs2,momA.urate[xx2]-momB.urate[xx2]) / maximum(abs2.(momB.urate[xx2]))\n",
    "    xx3 = 1:20\n",
    "    dist3 = (1/length(xx3)) * sum(abs2,momA.prate[xx3]-momB.prate[xx3]) / maximum(abs2.(momB.prate[xx3]))\n",
    "    dist = wgt[1] * dist1+ wgt[2] * dist2+ wgt[3] * dist3\n",
    "    if verbose\n",
    "        println([dist1,dist2, dist3, dist])\n",
    "    end\n",
    "    return dist\n",
    "end\n"
   ]
  }
 ],
 "metadata": {
  "@webio": {
   "lastCommId": null,
   "lastKernelId": null
  },
  "kernelspec": {
   "display_name": "Julia 1.10.5",
   "language": "julia",
   "name": "julia-1.10"
  },
  "language_info": {
   "file_extension": ".jl",
   "mimetype": "application/julia",
   "name": "julia",
   "version": "1.10.5"
  }
 },
 "nbformat": 4,
 "nbformat_minor": 4
}
