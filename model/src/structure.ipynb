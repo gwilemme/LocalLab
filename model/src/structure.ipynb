{
 "cells": [
  {
   "cell_type": "markdown",
   "metadata": {},
   "source": [
    "# Structure\n",
    "Define the objects of parameters."
   ]
  },
  {
   "cell_type": "code",
   "execution_count": 3,
   "metadata": {},
   "outputs": [
    {
     "data": {
      "text/plain": [
       "PolicyPar"
      ]
     },
     "execution_count": 3,
     "metadata": {},
     "output_type": "execute_result"
    }
   ],
   "source": [
    "Base.@kwdef struct StrucPar\n",
    "    r::Float64 ## interest rate\n",
    "    eta::Float64 ## elasticity in matching function\n",
    "    beta::Float64 ## workers' bargaining power\n",
    "    delta::Float64 ## job destruction rate at steady state\n",
    "    rho::Float64 ## workers' exit rate\n",
    "    lambda::Float64 ## U to O constant rate\n",
    "    chi::Float64 ## O to U constant rate\n",
    "    Phi_star::Float64 ## measure of entrant workers at ss\n",
    "    Psi_star::Float64 ## measure of entrant firms at ss\n",
    "    q_star::Float64 ## firms' job-filling rate at ss                \n",
    "    theta_q_star::Float64 ## workers' job-finding rate at ss\n",
    "    theta_star::Float64 ## market tightness at ss\n",
    "    \n",
    "    d_star::Float64 ## measure of workers at ss   \n",
    "    l_star::Float64 ## measure of workers in LF at ss          \n",
    "    m_star::Float64 ## measure of jobs at ss \n",
    "    n_star::Float64 ## measure of firms at ss \n",
    "\n",
    "    gamma::Float64 \n",
    "    nuF::Float64 ## participation response parameter\n",
    "    nuPhi::Float64 ## semi-elasticity of Phi\n",
    "    nuPsi::Float64 ## semi-elasticity of Psi\n",
    "           \n",
    "    Y_star::Float64 ## ss productivity\n",
    "    b::Float64 ## home production\n",
    "    c::Float64 ## search cost\n",
    "    Ztilde::Float64 ## workers' value from exiting\n",
    "    Vtilde::Float64 ## firms' value from exiting\n",
    "    P_star::Float64\n",
    "    S_star::Float64 ## job surplus at ss\n",
    "    Sw_star::Float64 ## workers' job surplus at ss\n",
    "    Sf_star::Float64 ## firms' job surplus at ss\n",
    "    w_star::Float64 ## wage at ss\n",
    "    H_star::Float64 ## housing cost at ss\n",
    "    K_star::Float64 ## business cost at ss\n",
    "    U_star::Float64 ## value of unemployment at ss\n",
    "    V_star::Float64 ## value of vacancy at ss\n",
    "    Z_star::Float64\n",
    "    \n",
    "    \n",
    "    ## agglomeration elasticities\n",
    "    eHd::Float64 \n",
    "    eHn::Float64\n",
    "    eKd::Float64\n",
    "    eKn::Float64\n",
    "    eYd::Float64\n",
    "    eYn::Float64\n",
    "    \n",
    "    ## shock\n",
    "    a::Float64 ## persistence: 0= no persistence\n",
    "    delta_jump::Float64 ## initial job destruction rate jump(%)\n",
    "    A_drop::Float64 ## initial TFP drop (%)\n",
    "    \n",
    "    ##\n",
    "    version::Symbol ##version: :newb, :fullpar, :rigidwage, :rigidrent\n",
    "end\n",
    "\n",
    "Base.@kwdef struct SimPar\n",
    "    M::Integer ## number of points in time\n",
    "    mu::Float64 ## scale of transformation [0,1] into [0,Inf], large mu -> time points closer to 0\n",
    "    h::Float64 ## initial step in line search algorithm\n",
    "    maxiter::Integer ## number of iterations in the Newton-type algorithm\n",
    "    maxerr::Float64 ## maximum error in Newton-type algorithm\n",
    "    data::DataFrame ## empirical moments to match\n",
    "end\n",
    "\n",
    "\n",
    " \n",
    "Base.@kwdef struct PolicyPar   \n",
    "    gw::Float64 ## subsidy to workers\n",
    "    gf::Float64 ## subsidy to firms\n",
    "    subdur::Float64 ## duration of subsidy\n",
    "end"
   ]
  },
  {
   "cell_type": "markdown",
   "metadata": {},
   "source": [
    "# I) The baseline model\n",
    "An equilibrium is defined as the solution of these equations:\n",
    "\\begin{align}\n",
    "    & \\dot{d}_t=\\Phi(U_t-G(P_t))-\\rho d_t \\\\\n",
    "\t&\\dot{l}_t=F(P_t)\\Phi(U_t-G(P_t))+(\\chi+\\gamma F(P_t))(d_t-l_t) - \\gamma(1-F(P_t)) (l_t-m_t) - (\\rho+\\lambda)l_t \\\\\n",
    "\t&\\dot{n}_t=\\Psi(V_t)-\\tilde\\delta_t n_t \\\\\n",
    "\t& \\dot{m}_t= q(\\theta_t)(n_{t}-m_{t})-(\\rho+\\lambda+\\tilde \\delta_t) m_{t}\\\\\n",
    "    &  \\theta_t=\\frac{n_{t}-m_{t}}{l_{t}-m_{t}}\\\\\n",
    "    &[r+\\rho+\\lambda+\\tilde \\delta_t+\\beta\\theta_tq(\\theta_t)+(1-\\beta)q(\\theta_t)]S_t=\\tilde A_t y_t-b+c+\\gamma G(P_t)+\\dot{S}_t\\\\\n",
    "    & (r+\\rho+\\lambda+\\chi+\\gamma) P_t= -c+\\beta\\theta_t q(\\theta_t) S_t+\\dot{P}_t\\\\\n",
    "    & (r+\\rho) U_t=\\rho \\tilde Z + b-h_{t}-c-\\lambda P_t-\\gamma G(P_t)+\\beta\\theta_t q(\\theta_t) S_t+\\dot{U}_t\\\\\n",
    "\t& (r+\\tilde\\delta_t) V_t=\\tilde \\delta_t \\tilde V-k_t+(1-\\beta) q(\\theta_t) S_t+\\dot{V}_t\n",
    "\\end{align}\n",
    "\n",
    "We first propose a test for a steady-state equilibrium."
   ]
  },
  {
   "cell_type": "code",
   "execution_count": null,
   "metadata": {},
   "outputs": [],
   "source": [
    "# test if the steady-state as defined by the model is well-defined\n",
    "function test_steadystate(p::StrucPar) \n",
    "    out = zeros(9)\n",
    "    out[1] = (p.Phi_star - p.rho * p.d_star ) / p.d_star\n",
    "    F = F_fun(p.P_star,p.nuF)\n",
    "    out[2] = ( F *p.Phi_star + (p.chi+p.gamma*F)*(p.d_star-p.l_star) - p.gamma*(1-F)*(p.l_star-p.m_star)- (p.rho + p.lambda) * p.l_star ) / p.l_star\n",
    "    out[3] = (p.Psi_star - p.delta * p.n_star) / p.n_star\n",
    "    out[4] = (p.theta_q_star * (p.l_star-p.m_star) - (p.rho + p.lambda + p.delta) * p.m_star ) / p.m_star \n",
    "    out[5] = (p.q_star * (p.n_star-p.m_star) - (p.rho+ p.lambda +p.delta) * p.m_star ) / p.m_star \n",
    "    G = G_fun(p.P_star,p.nuF)\n",
    "    out[6] = ( (p.r+p.rho) * p.U_star - p.rho*p.Ztilde - p.b + p.H_star +p.c - p.beta*p.theta_star*p.q_star*p.S_star +p.lambda*p.P_star + p.gamma*G) / p.U_star\n",
    "    out[7] = ( (p.r+p.delta)*p.V_star - p.delta*p.Vtilde + p.K_star - (1-p.beta) * p.q_star *p.S_star) / p.V_star \n",
    "    out[8] = ((p.r +p.rho+p.lambda+ p.delta + p.beta*p.theta_q_star + (1-p.beta)*p.q_star) * p.S_star - \n",
    "        p.Y_star + p.b -p.c -p.gamma*G) / p.S_star \n",
    "    out[9] = ( (p.r+p.rho+p.lambda+p.chi+p.gamma) * p.P_star +p.c - p.beta*p.theta_star*p.q_star*p.S_star) / p.P_star  \n",
    "    println(\"TEST if the parameters well define a steady state. The following numbers should all be close to 0.\")\n",
    "    println(out)\n",
    "    p.S_star <0 ? print(\"/!\\\\ S_star negative\") : ()\n",
    "    return()\n",
    "end"
   ]
  },
  {
   "cell_type": "markdown",
   "metadata": {},
   "source": [
    "For the participation response, we have:\n",
    "\\begin{align}\n",
    "    & F(P)=1-\\exp(-P/\\nu_F )\\\\\n",
    "    & G(P)=\\nu_F\\left(1-\\exp(-P/\\nu_F )\\right)\n",
    "\\end{align}\n",
    "\n",
    "\n",
    "We also assume some functions are linear or log-linear:\n",
    "\\begin{align}\n",
    "    & \\Phi(Z)=\\Phi(Z^*)\\exp(\\nu_\\Phi(Z-Z^*))\\\\\n",
    "     & \\Psi(V)=\\Psi(V^*)\\exp(\\nu_\\Psi(V-V^*))\\\\\n",
    "    & q(\\theta) = q(\\theta^*)\\left(\\frac{\\theta}{\\theta^*}\\right)^{\\eta-1}\\\\\n",
    "    & \\mathcal{H}(d,n)=\\mathcal{H}(d^*,n^*)\\left(\\frac{d}{d^*}\\right)^{\\epsilon_d^H}\\left(\\frac{n}{n^*}\\right)^{\\epsilon_n^H}\\\\\n",
    "    & \\mathcal{K}(d,n)=\\mathcal{K}(d^*,n^*)\\left(\\frac{d}{d^*}\\right)^{\\epsilon_d^K}\\left(\\frac{n}{n^*}\\right)^{\\epsilon_n^K}\\\\\n",
    "    & \\mathcal{Y}(d,n)=\\mathcal{Y}(d^*,n^*)\\left(\\frac{d}{d^*}\\right)^{\\epsilon_d^Y}\\left(\\frac{n}{n^*}\\right)^{\\epsilon_n^Y}\n",
    "\\end{align}"
   ]
  },
  {
   "cell_type": "code",
   "execution_count": null,
   "metadata": {},
   "outputs": [],
   "source": [
    "F_fun(P::Float64, nuF::Float64) = 1-exp(-P / nuF)\n",
    "FD_fun(P::Float64, nuF::Float64) = exp(-P / nuF)  / nuF\n",
    "G_fun(P::Float64, nuF::Float64) = F_fun(P, nuF) * nuF\n",
    "GD_fun(P::Float64, nuF::Float64) = exp(-P / nuF)\n",
    "\n",
    "Phi_fun(Z::Float64,p::StrucPar) = p.Phi_star * exp( p.nuPhi * (Z-p.Z_star) )\n",
    "PhiD_fun(Z::Float64,p::StrucPar) = p.nuPhi * Phi_fun(Z,p)\n",
    "\n",
    "Psi_fun(V::Float64,p::StrucPar) = p.Psi_star *exp( p.nuPsi * (V-p.V_star) )\n",
    "PsiD_fun(V::Float64,p::StrucPar) = p.nuPsi * Psi_fun(V,p)\n",
    "\n",
    "q_fun(theta::Float64,p::StrucPar) = p.q_star * (theta/p.theta_star)^(p.eta-1)\n",
    "\n",
    "#### rename Hl etc\n",
    "\n",
    "H_fun(d::Float64, n::Float64, p::StrucPar) = p.H_star * (d/p.d_star)^p.eHd * (n/p.n_star)^p.eHn\n",
    "Hd_fun(d::Float64, n::Float64, p::StrucPar) = p.eHd  * H_fun(d,n,p) / d\n",
    "Hn_fun(d::Float64, n::Float64, p::StrucPar) = p.eHn  * H_fun(d,n,p) / n\n",
    "K_fun(d::Float64, n::Float64, p::StrucPar) = p.K_star * (d/p.d_star)^p.eKd * (n/p.n_star)^p.eKn\n",
    "Kd_fun(d::Float64, n::Float64, p::StrucPar) = p.eKd  * K_fun(d,n,p) / d\n",
    "Kn_fun(d::Float64, n::Float64, p::StrucPar) = p.eKn  * K_fun(d,n,p) / n\n",
    "\n",
    "Y_fun(d::Float64, n::Float64, p::StrucPar) = p.Y_star * (d/p.d_star)^p.eYd * (n/p.n_star)^p.eYn\n",
    "Yd_fun(d::Float64, n::Float64, p::StrucPar) = p.eYd  * Y_fun(d,n,p) / d\n",
    "Yn_fun(d::Float64, n::Float64, p::StrucPar) = p.eYn  * Y_fun(d,n,p) / n"
   ]
  },
  {
   "cell_type": "markdown",
   "metadata": {},
   "source": [
    "The shock shifts $A^*$ and $\\delta^*$ to $A_0$ and $\\delta_0$ with a persistence $a$.\n",
    "\\begin{align}\n",
    "    & \\tilde\\delta_t=\\delta+(\\delta_0-\\delta) \\exp(-t/a)\\\\\n",
    "    & \\ln \\tilde A_t  =  \\ln A_0 \\exp(-t/a)\n",
    "\\end{align}"
   ]
  },
  {
   "cell_type": "code",
   "execution_count": null,
   "metadata": {},
   "outputs": [],
   "source": [
    "### job separation shock\n",
    "# delta0 =(1+delta_jump) * delta\n",
    "deltatilde_fun(t::Float64, p::StrucPar) = p.delta * (1 + p.delta_jump * exp(- t / p.a))\n",
    "\n",
    "## TFP shock\n",
    "# A0 = (1-A_drop) * A, with A=1\n",
    "Atilde_fun(t::Float64, p::StrucPar) = exp( log(1-p.A_drop) * exp(- t / p.a) )"
   ]
  },
  {
   "cell_type": "markdown",
   "metadata": {},
   "source": [
    "To create or modify a StrucPar"
   ]
  },
  {
   "cell_type": "code",
   "execution_count": null,
   "metadata": {},
   "outputs": [],
   "source": [
    "# build the same model with other agglo forces\n",
    "function StrucPar_agglo(eHd, eHn, eKd, eKn, eYd, eYn, p::StrucPar)\n",
    "    StrucPar(r=p.r,eta=p.eta,beta=p.beta,delta=p.delta,rho=p.rho,Phi_star=p.Phi_star,q_star=p.q_star, \n",
    "        chi=p.chi, lambda=p.lambda, gamma=p.gamma,\n",
    "        theta_q_star=p.theta_q_star, theta_star = p.theta_star,\n",
    "        d_star=p.d_star, l_star=p.l_star,m_star =p.m_star, n_star=p.n_star,Y_star=p.Y_star,\n",
    "        Psi_star= p.Psi_star, c=p.c,\n",
    "        nuPhi=p.nuPhi , nuPsi=p.nuPsi, nuF=p.nuF,\n",
    "        b=p.b, Ztilde=p.Ztilde, Vtilde=p.Vtilde,\n",
    "        S_star = p.S_star, Sw_star=p.Sw_star, Sf_star=p.Sf_star,\n",
    "        w_star = p.w_star,\n",
    "        H_star = p.H_star, K_star = p.K_star,\n",
    "        U_star = p.U_star, V_star = p.V_star, P_star=p.P_star, Z_star=p.Z_star,\n",
    "        eHd=eHd, eHn=eHn, eKd=eKd, eKn=eKn, eYd=eYd, eYn=eYn, \n",
    "        a=p.a, delta_jump=p.delta_jump, A_drop=p.A_drop, version=p.version)\n",
    "end\n",
    "\n",
    "function StrucPar_migr(nuPhi, nuPsi, p::StrucPar)\n",
    "    StrucPar(r=p.r,eta=p.eta,beta=p.beta,delta=p.delta,rho=p.rho,Phi_star=p.Phi_star,q_star=p.q_star, \n",
    "        chi=p.chi, lambda=p.lambda, gamma=p.gamma,\n",
    "        theta_q_star=p.theta_q_star, theta_star = p.theta_star,\n",
    "        d_star=p.d_star, l_star=p.l_star,m_star =p.m_star, n_star=p.n_star,Y_star=p.Y_star,\n",
    "        Psi_star= p.Psi_star, c=p.c,\n",
    "        nuPhi=nuPhi , nuPsi=nuPsi, nuF=p.nuF,\n",
    "        b=p.b, Ztilde=p.Ztilde, Vtilde=p.Vtilde,\n",
    "        S_star = p.S_star, Sw_star=p.Sw_star, Sf_star=p.Sf_star,\n",
    "        w_star = p.w_star,\n",
    "        H_star = p.H_star, K_star = p.K_star,\n",
    "        U_star = p.U_star, V_star = p.V_star, P_star=p.P_star, Z_star=p.Z_star,\n",
    "        eHd=p.eHd, eHn=p.eHn, eKd=p.eKd, eKn=p.eKn, eYd=p.eYd, eYn=p.eYn, \n",
    "        a=p.a, delta_jump=p.delta_jump, A_drop=p.A_drop, version=p.version)\n",
    "end\n"
   ]
  }
 ],
 "metadata": {
  "@webio": {
   "lastCommId": null,
   "lastKernelId": null
  },
  "kernelspec": {
   "display_name": "Julia 1.10.9",
   "language": "julia",
   "name": "julia-1.10"
  },
  "language_info": {
   "file_extension": ".jl",
   "mimetype": "application/julia",
   "name": "julia",
   "version": "1.10.9"
  }
 },
 "nbformat": 4,
 "nbformat_minor": 4
}
