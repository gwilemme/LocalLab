{
 "cells": [
  {
   "cell_type": "markdown",
   "metadata": {},
   "source": [
    "# Startup \n",
    "Code to be included at the beginning of each Julia script.\n",
    "\n",
    "Define directories and call packages."
   ]
  },
  {
   "cell_type": "code",
   "execution_count": 1,
   "metadata": {},
   "outputs": [],
   "source": [
    "t0 = time() ## start chrono\n",
    "dir_module = joinpath(pwd(),\"src\")\n",
    "    \n",
    "########### main module\n",
    "using NBInclude\n",
    "@nbinclude(joinpath(dir_module,\"Agglo.ipynb\"))\n",
    "using Main.Agglo\n",
    "\n",
    "########### other packages\n",
    "using Roots, PyPlot, NLopt, DataFrames"
   ]
  },
  {
   "cell_type": "markdown",
   "metadata": {},
   "source": [
    "# Define parameters"
   ]
  },
  {
   "cell_type": "code",
   "execution_count": 2,
   "metadata": {},
   "outputs": [
    {
     "data": {
      "text/plain": [
       "initial_StrucPar_stat (generic function with 1 method)"
      ]
     },
     "execution_count": 2,
     "metadata": {},
     "output_type": "execute_result"
    }
   ],
   "source": [
    "## to avoid repeating operations at every initial_StrucPar\n",
    "directplug = let\n",
    "    \n",
    "    ## external targets\n",
    "    r_annual = 0.05 # 5% annual interest rate\n",
    "    outmigration_yearly = 0.029 #2.9% steady state outflow \n",
    "    separationrate_monthly = 0.03 # 3% Shimer 2012\n",
    "    N2Urate_monthly = 0.015 # 0.015 roughly from Elsby, M, Hobijn, B & Sahin, A, JME 2015\n",
    "    participationrate = 0.65 # 0.65 roughly from Elsby, M, Hobijn, B & Sahin, A, JME 2015 \n",
    "    unemploymentrate = 0.06\n",
    "    jobfillingrate_daily = 0.05 ##5% daily job-filling rate \n",
    "    d_star = 1  ## normalisation\n",
    "\n",
    "    ### plug the values\n",
    "    r = find_zero(x->1-exp(-12*x)-r_annual, 0.004)\n",
    "    Phi_star = find_zero(x->1-exp(-12*x)-outmigration_yearly, 0.0001) * d_star \n",
    "    rho = Phi_star/d_star ## d at steady state\n",
    "    q_star = find_zero(x->1-exp(-12/365*x)-jobfillingrate_daily, 0.) \n",
    "    l_star = participationrate * d_star\n",
    "    m_star = (1-unemploymentrate) * l_star \n",
    "    rholamdelta = separationrate_monthly ## rho+lambda+delta\n",
    "    theta_star=rholamdelta * m_star / (q_star * (l_star-m_star))  ## m at SS\n",
    "    n_star = theta_star * (l_star-m_star) + m_star ## def of theta\n",
    "\n",
    "    (r=r, d_star=d_star, Phi_star=Phi_star, rho=rho, l_star=l_star, m_star=m_star, theta_star=theta_star,\n",
    "        q_star=q_star, theta_q_star= theta_star * q_star, n_star=n_star, \n",
    "        rholamdelta =rholamdelta, N2Urate_monthly=N2Urate_monthly)\n",
    "    \n",
    "end\n",
    "\n",
    "function initial_StrucPar_generic(a::Float64, delta_jump::Float64, A_drop::Float64, nuF::Float64, nuPhi::Float64, nuPsi::Float64, \n",
    "        version::Symbol; dp=directplug)\n",
    "\n",
    "    ## external targets\n",
    "    eta =0.4 ## provided by referee 1\n",
    "    beta = 1-eta ## Hosios condition\n",
    "    Y_star = 1.\n",
    "    b= 0.4*Y_star ## Shimer\n",
    "    Ztilde = 0. # innocuous normalisation\n",
    "    Vtilde = 0. # assumption\n",
    "    housingshare = 0.25 ## housing cost/wage, from Davis and Ortalo-Magne\n",
    "    K_star = 0 # Coles and Moghaddasi\n",
    "    chi=0\n",
    "    c=0\n",
    "    eHd = 1\n",
    "    eHn = 0 \n",
    "    eKd = 0\n",
    "    eKn = 0\n",
    "    eYd = 0 \n",
    "    eYn = 0.2\n",
    "    \n",
    "    ### plug the values\n",
    "    r = dp.r\n",
    "    d_star= dp.d_star\n",
    "    l_star=dp.l_star\n",
    "    m_star=dp.m_star\n",
    "    Phi_star = dp.Phi_star     \n",
    "    rho = dp.rho\n",
    "    q_star = dp.q_star\n",
    "    theta_star = dp.theta_star\n",
    "    theta_q_star = dp.theta_q_star\n",
    "    n_star=dp.n_star\n",
    "    \n",
    "    ## need to find a fixed point\n",
    "    gamma_fun(F) = dp.N2Urate_monthly / F\n",
    "    lambda_fun(F, gam) = (F*Phi_star + dp.N2Urate_monthly*(d_star-l_star) -rho*l_star - gam*(1-F)*(l_star-m_star)) / l_star ## transition N2U and l at SS\n",
    "    S_fun(gam, P) = (Y_star-b+c + gam*G_fun(P,nuF)) / (r+dp.rholamdelta+beta*theta_star * q_star+(1-beta)*q_star)  ## S at SS\n",
    "    P_fun(lam, gam, S) = (-c+ beta*theta_star*q_star * S) / (r+rho+lam+chi+gam) ## P at SS\n",
    "    function fixpoint(P)\n",
    "        F = F_fun(P, nuF)\n",
    "        gam=gamma_fun(F)\n",
    "        lam = lambda_fun(F, gam)\n",
    "        S = S_fun(gam, P)\n",
    "        return P - P_fun(lam, gam, S)\n",
    "    end\n",
    "    P_star = find_zero(fixpoint, 10)\n",
    "    F_star = F_fun(P_star,nuF)\n",
    "    gamma=gamma_fun(F_star)\n",
    "    lambda = lambda_fun(F_star, gamma)\n",
    "    S_star = S_fun(gamma, P_star)\n",
    "    \n",
    "    ## and the rest\n",
    "    delta = dp.rholamdelta - rho - lambda\n",
    "    Psi_star = delta*n_star\n",
    "    Sw_star = beta * S_star\n",
    "    Sf_star = (1-beta) * S_star\n",
    "    w_star = Y_star - (r+rho+lambda+delta+q_star) *  Sf_star ## def of Sf\n",
    "    H_star = housingshare * w_star \n",
    "    U_star = (rho*Ztilde + b-H_star-c + beta*theta_q_star*S_star  - lambda*P_star - gamma*G_fun(P_star,nuF) )/ (r+rho) ## U at SS\n",
    "    V_star = (delta*Vtilde-K_star+(1-beta)*q_star*S_star)/(r+delta) ## V at SS\n",
    "    Z_star = U_star-G_fun(P_star,nuF)\n",
    "    \n",
    "    ###################\n",
    "    StrucPar(r=r,eta=eta,beta=beta,delta=delta,rho=rho,lambda=lambda, chi=chi, \n",
    "        Psi_star=Psi_star, Phi_star=Phi_star,\n",
    "        q_star=q_star, theta_q_star=theta_q_star, theta_star = theta_star,\n",
    "        d_star=d_star, l_star=l_star, m_star =m_star, n_star=n_star,\n",
    "        gamma=gamma, nuPhi=nuPhi , nuPsi=nuPsi, nuF=nuF,\n",
    "        Y_star=Y_star, b=b, c=c, Ztilde=Ztilde, Vtilde=Vtilde,\n",
    "        S_star = S_star, Sw_star=Sw_star, Sf_star=Sf_star,\n",
    "        w_star = w_star,\n",
    "        H_star = H_star, K_star = K_star,\n",
    "        P_star= P_star, U_star = U_star, V_star = V_star, Z_star=Z_star,\n",
    "        eHd=eHd, eHn=eHn, eKd=eKd, eKn=eKn, eYd=eYd, eYn=eYn, \n",
    "        a=a, delta_jump=delta_jump, A_drop=A_drop, version=version)\n",
    "end\n",
    "\n",
    "\n",
    "p0 = initial_StrucPar_generic(0., 0.,0.,0.1, 0.,0., :newb)\n",
    "function initial_StrucPar_base(a::Float64, delta_jump::Float64, A_drop::Float64, nuF::Float64, nuPhi::Float64, nuPsi::Float64)\n",
    "    initial_StrucPar_generic(a, delta_jump, A_drop, nuF, nuPhi, nuPsi, :base)\n",
    "end\n",
    "\n",
    "function initial_StrucPar_noagglo(a::Float64, delta_jump::Float64, A_drop::Float64, nuF::Float64, nuPhi::Float64, nuPsi::Float64)\n",
    "    p1=initial_StrucPar_generic(a, delta_jump, A_drop, nuF, nuPhi, nuPsi, :base)\n",
    "    StrucPar_agglo(0,0,0,0,0,0, p1)\n",
    "end\n",
    "\n",
    "function initial_StrucPar_rigidwage(a::Float64, delta_jump::Float64, A_drop::Float64, nuF::Float64, nuPhi::Float64, nuPsi::Float64)\n",
    "    initial_StrucPar_generic(a, delta_jump, A_drop, nuF, nuPhi, nuPsi, :rigidwage)\n",
    "end\n",
    "\n",
    "function initial_StrucPar_rigidrent(a::Float64, delta_jump::Float64, A_drop::Float64, nuF::Float64, nuPhi::Float64, nuPsi::Float64)\n",
    "    initial_StrucPar_generic(a, delta_jump, A_drop, nuF, nuPhi, nuPsi, :rigidrent)\n",
    "end\n",
    "\n",
    "function initial_StrucPar_stat(a::Float64, delta_jump::Float64, A_drop::Float64, nuF::Float64, nuPhi::Float64, nuPsi::Float64)\n",
    "    initial_StrucPar_generic(a, delta_jump, A_drop, nuF, nuPhi, nuPsi, :stat)\n",
    "end"
   ]
  },
  {
   "cell_type": "code",
   "execution_count": 3,
   "metadata": {},
   "outputs": [
    {
     "data": {
      "image/png": "[encoded data removed]",
      "text/plain": [
       "Figure(PyObject <Figure size 640x480 with 1 Axes>)"
      ]
     },
     "metadata": {},
     "output_type": "display_data"
    },
    {
     "data": {
      "text/plain": [
       "PyObject <matplotlib.collections.PathCollection object at 0x000002085595D9D0>"
      ]
     },
     "execution_count": 3,
     "metadata": {},
     "output_type": "execute_result"
    }
   ],
   "source": [
    "simpar = let\n",
    "    M = 1000\n",
    "    lastobs = 1200 ##(M-2)/mu = t_{M-1} last observation before infinity \n",
    "    mu = (M-2)/lastobs\n",
    "    \n",
    "    ## build datamom, the columns are from HandIRF_RFIV_persistent_no_covid.xlsx\n",
    "    t = 12 .* collect(1:20) ## every year for the next 10 years\n",
    "    emp = [-1,\n",
    "-2.03516279295191,\n",
    "-2.75122090528639,\n",
    "-3.13989482962082,\n",
    "-3.29638275347455,\n",
    "-3.31620117208818,\n",
    "-3.26840510063065,\n",
    "-3.19553251903024,\n",
    "-3.12044344103286,\n",
    "-3.05345423938016,\n",
    "-2.99781163998253,\n",
    "-2.95328243345294,\n",
    "-2.91824443229933,\n",
    "-2.89077051089269,\n",
    "-2.8691107434514,\n",
    "-2.85185076299132,\n",
    "-2.83791639408314,\n",
    "-2.82651876194693,\n",
    "-2.81708670435878,\n",
    "-2.80920640188485\n",
    "            ]\n",
    "    urate = [0.798166437251351,\n",
    "1.01335091224359,\n",
    "0.933781606724633,\n",
    "0.739777545372322,\n",
    "0.530248279016484,\n",
    "0.350580331200598,\n",
    "0.214483557223323,\n",
    "0.119793271527241,\n",
    "0.0582810393667188,\n",
    "0.0208101802768431,\n",
    "-0.000453148162926895,\n",
    "-0.0114223264679098,\n",
    "-0.0162079349198806,\n",
    "-0.0174945817590769,\n",
    "-0.0169450280287167,\n",
    "-0.0155387783260611,\n",
    "-0.013822957725632,\n",
    "-0.0120839844711436,\n",
    "-0.0104582315457598,\n",
    "-0.00899989325686042\n",
    "            ]\n",
    "    prate = [-0.185297307499995,\n",
    "-0.392055625577903,\n",
    "-0.536669774968169,\n",
    "-0.604583386671608,\n",
    "-0.617099957152784,\n",
    "-0.594744687215814,\n",
    "-0.552181867521033,\n",
    "-0.499648750670381,\n",
    "-0.444040112027971,\n",
    "-0.389667704803717,\n",
    "-0.338961194300422,\n",
    "-0.293077749919438,\n",
    "-0.252372920417869,\n",
    "-0.216733947230121,\n",
    "-0.18580087808487,\n",
    "-0.159105011589948,\n",
    "-0.136150444863877,\n",
    "-0.116458604680253,\n",
    "-0.0995899222770024,\n",
    "-0.0851521314931289\n",
    "            ]\n",
    "    data = DataFrame(t=t, emp=emp, urate=urate, prate=prate)\n",
    "    SimPar(M = M, mu =mu, h = 0.2, maxiter=200, maxerr=0.001, data=data) \n",
    "end\n",
    "\n",
    "scatter(simpar.data.t,simpar.data.emp)\n",
    "scatter(simpar.data.t,simpar.data.urate)\n",
    "scatter(simpar.data.t,simpar.data.prate)"
   ]
  },
  {
   "cell_type": "code",
   "execution_count": 4,
   "metadata": {},
   "outputs": [
    {
     "data": {
      "text/plain": [
       "7-element Vector{Any}:\n",
       " \"-\"\n",
       " \"--\"\n",
       " \":\"\n",
       " \"-.\"\n",
       " (0, (3, 1, 1, 1, 1, 1))\n",
       " (5, (10, 3))\n",
       " (0, (3, 10, 1, 10, 1, 10))"
      ]
     },
     "execution_count": 4,
     "metadata": {},
     "output_type": "execute_result"
    }
   ],
   "source": [
    "## specify colors, https://colorbrewer2.org/#type=qualitative&scheme=Dark2&n=7\n",
    "myblue = \"#7570b3\"\n",
    "mygreen= \"#1b9e77\"\n",
    "myred = \"#d95f02\"\n",
    "mypink = \"#e7298a\"\n",
    "mylightgreen = \"#66a61e\"\n",
    "myorange = \"#e6ab02\"\n",
    "mybrown = \"#a6761d\"\n",
    "mygrey = \"#bfbfbf\"\n",
    "\n",
    "## ordered colored and lines\n",
    "colorvec = [myblue, myred, mygreen,mypink, mylightgreen, myorange, mybrown]\n",
    "lsvec = [\"-\", \"--\",\":\",\"-.\", (0, (3, 1, 1, 1, 1, 1)), (5, (10, 3)), (0, (3, 10, 1, 10, 1, 10))]"
   ]
  },
  {
   "cell_type": "code",
   "execution_count": 5,
   "metadata": {},
   "outputs": [
    {
     "data": {
      "text/plain": [
       "NaN"
      ]
     },
     "execution_count": 5,
     "metadata": {},
     "output_type": "execute_result"
    }
   ],
   "source": [
    "if !@isdefined(_VERS_)\n",
    "    p = NaN \n",
    "elseif _VERS_ == :base \n",
    "    p = initial_StrucPar_base(79.631263600718, 0.0, 0.07844783149927109, 1.2337220994416365, 0.06449929488793682, 1.4965023959025525)\n",
    "elseif _VERS_ == :rigidrent \n",
    "    p = initial_StrucPar_rigidrent(49.805998561881594, 0.0, 0.03592587505826447, 1.938254345632176, 0.21346740642082493, 5.461586819255724)\n",
    "elseif _VERS_ == :rigidwage \n",
    "    p = initial_StrucPar_rigidwage(13.459713595432413, 0.0, 0.06874436711655102, 8.285702150626136, 2.44522060308835, 0.1755513264749144)\n",
    "end"
   ]
  },
  {
   "cell_type": "code",
   "execution_count": 6,
   "metadata": {},
   "outputs": [
    {
     "name": "stdout",
     "output_type": "stream",
     "text": [
      "Startup run in 40.61999988555908 secs.\n"
     ]
    }
   ],
   "source": [
    "t1 = time()\n",
    "nsec = (t1-t0)\n",
    "println(\"Startup run in $nsec secs.\")"
   ]
  }
 ],
 "metadata": {
  "@webio": {
   "lastCommId": null,
   "lastKernelId": null
  },
  "kernelspec": {
   "display_name": "Julia 1.10.5",
   "language": "julia",
   "name": "julia-1.10"
  },
  "language_info": {
   "file_extension": ".jl",
   "mimetype": "application/julia",
   "name": "julia",
   "version": "1.10.5"
  }
 },
 "nbformat": 4,
 "nbformat_minor": 4
}
